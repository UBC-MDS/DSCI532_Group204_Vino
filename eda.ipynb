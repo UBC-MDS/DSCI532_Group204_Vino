{
 "cells": [
  {
   "cell_type": "code",
   "execution_count": 21,
   "metadata": {},
   "outputs": [],
   "source": [
    "import pandas as pd\n",
    "import pandas_profiling\n",
    "import os\n",
    "from pprint import pprint"
   ]
  },
  {
   "cell_type": "markdown",
   "metadata": {},
   "source": [
    "### DOWNLOAD THE DATASET (DEPRECATED)"
   ]
  },
  {
   "cell_type": "code",
   "execution_count": null,
   "metadata": {},
   "outputs": [],
   "source": [
    "# Warn user to add their own credentials\n",
    "print('Get your Kaggle API Credentials - see here: https://github.com/Kaggle/kaggle-api')\n",
    "username = input('Enter your Kaggle username: ')\n",
    "key = input('Enter your Kaggle credentials key: ')    \n",
    "\n",
    "# Set your credentials to environment variables\n",
    "os.environ['KAGGLE_USERNAME'] = username\n",
    "os.environ['KAGGLE_KEY'] = key\n",
    "\n",
    "try:\n",
    "    import kaggle\n",
    "except:\n",
    "    sys.exit('Invalid Credentials')\n",
    "\n",
    "# Download the dataset\n",
    "kaggle.api.authenticate()\n",
    "kaggle.api.dataset_download_files('zynicide/wine-reviews', path='./data', unzip=True)"
   ]
  },
  {
   "cell_type": "markdown",
   "metadata": {},
   "source": [
    "### LOAD THE DATASET"
   ]
  },
  {
   "cell_type": "code",
   "execution_count": 37,
   "metadata": {},
   "outputs": [],
   "source": [
    "# Load the dataset\n",
    "df = pd.read_json('data/winemag-data-130k-v2.json')"
   ]
  },
  {
   "cell_type": "markdown",
   "metadata": {},
   "source": [
    "### FILTER ROWS BY COUNTRY (Include Canada and US)"
   ]
  },
  {
   "cell_type": "code",
   "execution_count": 38,
   "metadata": {},
   "outputs": [
    {
     "data": {
      "text/html": [
       "<div>\n",
       "<style scoped>\n",
       "    .dataframe tbody tr th:only-of-type {\n",
       "        vertical-align: middle;\n",
       "    }\n",
       "\n",
       "    .dataframe tbody tr th {\n",
       "        vertical-align: top;\n",
       "    }\n",
       "\n",
       "    .dataframe thead th {\n",
       "        text-align: right;\n",
       "    }\n",
       "</style>\n",
       "<table border=\"1\" class=\"dataframe\">\n",
       "  <thead>\n",
       "    <tr style=\"text-align: right;\">\n",
       "      <th></th>\n",
       "      <th>points</th>\n",
       "      <th>price</th>\n",
       "    </tr>\n",
       "  </thead>\n",
       "  <tbody>\n",
       "    <tr>\n",
       "      <th>count</th>\n",
       "      <td>54761.000000</td>\n",
       "      <td>54519.000000</td>\n",
       "    </tr>\n",
       "    <tr>\n",
       "      <th>mean</th>\n",
       "      <td>88.567502</td>\n",
       "      <td>36.569453</td>\n",
       "    </tr>\n",
       "    <tr>\n",
       "      <th>std</th>\n",
       "      <td>3.112285</td>\n",
       "      <td>27.058902</td>\n",
       "    </tr>\n",
       "    <tr>\n",
       "      <th>min</th>\n",
       "      <td>80.000000</td>\n",
       "      <td>4.000000</td>\n",
       "    </tr>\n",
       "    <tr>\n",
       "      <th>25%</th>\n",
       "      <td>86.000000</td>\n",
       "      <td>20.000000</td>\n",
       "    </tr>\n",
       "    <tr>\n",
       "      <th>50%</th>\n",
       "      <td>88.000000</td>\n",
       "      <td>30.000000</td>\n",
       "    </tr>\n",
       "    <tr>\n",
       "      <th>75%</th>\n",
       "      <td>91.000000</td>\n",
       "      <td>45.000000</td>\n",
       "    </tr>\n",
       "    <tr>\n",
       "      <th>max</th>\n",
       "      <td>100.000000</td>\n",
       "      <td>2013.000000</td>\n",
       "    </tr>\n",
       "  </tbody>\n",
       "</table>\n",
       "</div>"
      ],
      "text/plain": [
       "             points         price\n",
       "count  54761.000000  54519.000000\n",
       "mean      88.567502     36.569453\n",
       "std        3.112285     27.058902\n",
       "min       80.000000      4.000000\n",
       "25%       86.000000     20.000000\n",
       "50%       88.000000     30.000000\n",
       "75%       91.000000     45.000000\n",
       "max      100.000000   2013.000000"
      ]
     },
     "execution_count": 38,
     "metadata": {},
     "output_type": "execute_result"
    }
   ],
   "source": [
    "df = df.query(\"country == 'US'\")\n",
    "df.describe()"
   ]
  },
  {
   "cell_type": "markdown",
   "metadata": {},
   "source": [
    "### MAKE THE PANDAS PROFILING REPORT (EXPLORATION OF DATA)"
   ]
  },
  {
   "cell_type": "code",
   "execution_count": 39,
   "metadata": {},
   "outputs": [
    {
     "name": "stderr",
     "output_type": "stream",
     "text": [
      "/Users/jarvisnederlof/anaconda3/lib/python3.7/site-packages/pandas_profiling/model/correlations.py:34: RuntimeWarning: invalid value encountered in double_scalars\n",
      "  return np.sqrt(phi2corr / min((kcorr - 1.0), (rcorr - 1.0)))\n",
      "/Users/jarvisnederlof/anaconda3/lib/python3.7/site-packages/pandas_profiling/model/correlations.py:124: UserWarning: There was an attempt to calculate the cramers correlation, but this failed.\n",
      "To hide this warning, disable the calculation\n",
      "(using `df.profile_report(correlations={\"cramers\": False}`)\n",
      "If this is problematic for your use case, please report this as an issue:\n",
      "https://github.com/pandas-profiling/pandas-profiling/issues\n",
      "(include the error message: 'The internally computed table of expected frequencies has a zero element at (0, 0).')\n",
      "  correlation_name=correlation_name, error=error\n"
     ]
    }
   ],
   "source": [
    "profile = df.profile_report(title='Wine Profiling Report')\n",
    "profile.to_file(output_file=\"wine_profile.html\")"
   ]
  },
  {
   "cell_type": "code",
   "execution_count": 22,
   "metadata": {},
   "outputs": [
    {
     "name": "stdout",
     "output_type": "stream",
     "text": [
      "The dataframe columns are:\n",
      "['points',\n",
      " 'title',\n",
      " 'description',\n",
      " 'taster_name',\n",
      " 'taster_twitter_handle',\n",
      " 'price',\n",
      " 'designation',\n",
      " 'variety',\n",
      " 'region_1',\n",
      " 'region_2',\n",
      " 'province',\n",
      " 'country',\n",
      " 'winery']\n"
     ]
    }
   ],
   "source": [
    "print(\"The dataframe columns are:\")\n",
    "pprint(list(df.columns))\n"
   ]
  },
  {
   "cell_type": "code",
   "execution_count": 36,
   "metadata": {},
   "outputs": [
    {
     "name": "stdout",
     "output_type": "stream",
     "text": [
      "There are 54,761 total ratings.\n",
      "\n",
      "There are 2 unique countries represented.\n",
      "\n",
      "There are 30 unique provinces represented.\n",
      "\n",
      "There are 276 unique region 1's represented.\n",
      "\n",
      "There are 18 unique region 2's represented.\n",
      "\n",
      "There are 258 unique varieties.\n",
      "\n",
      "There are 5,417 unique wineries.\n",
      "\n",
      "There are 16 tasters.\n",
      "\n",
      "The price ranges from $4 to $2,013 per bottle.\n",
      "\n",
      "The average price is $37 per bottle.\n",
      "\n",
      "The points range from 80 to 100 per bottle.\n",
      "\n",
      "The average point rating is 89 per bottle.\n",
      "\n"
     ]
    }
   ],
   "source": [
    "print(\"There are {:,.0f} total ratings.\\n\".format(len(df)))\n",
    "print(f\"There are {len(df.country.unique())} unique countries represented.\\n\")\n",
    "print(f\"There are {len(df.province.unique())} unique provinces represented.\\n\")\n",
    "print(f\"There are {len(df.region_1.unique())} unique region 1's represented.\\n\")\n",
    "print(f\"There are {len(df.region_2.unique())} unique region 2's represented.\\n\")\n",
    "print(f\"There are {len(df.variety.unique())} unique varieties.\\n\")\n",
    "print(\"There are {:,.0f} unique wineries.\\n\".format(len(df.winery.unique())))\n",
    "print(f\"There are {len(df.taster_name.unique())} tasters.\\n\")\n",
    "print(\"The price ranges from ${:,.0f} to ${:,.0f} per bottle.\\n\".format(df.price.min(), df.price.max()))\n",
    "print(\"The average price is ${:,.0f} per bottle.\\n\".format(df.price.mean()))\n",
    "print(\"The points range from {:,.0f} to {:,.0f} per bottle.\\n\".format(df.points.min(), df.points.max()))\n",
    "print(\"The average point rating is {:,.0f} per bottle.\\n\".format(df.points.mean()))"
   ]
  },
  {
   "cell_type": "code",
   "execution_count": null,
   "metadata": {},
   "outputs": [],
   "source": []
  }
 ],
 "metadata": {
  "kernelspec": {
   "display_name": "Python 3",
   "language": "python",
   "name": "python3"
  },
  "language_info": {
   "codemirror_mode": {
    "name": "ipython",
    "version": 3
   },
   "file_extension": ".py",
   "mimetype": "text/x-python",
   "name": "python",
   "nbconvert_exporter": "python",
   "pygments_lexer": "ipython3",
   "version": "3.7.5"
  }
 },
 "nbformat": 4,
 "nbformat_minor": 4
}
